{
 "cells": [
  {
   "cell_type": "markdown",
   "metadata": {},
   "source": [
    "a small code to perform a sanity check/correctness check on the evaluation function"
   ]
  },
  {
   "cell_type": "code",
   "execution_count": 1,
   "metadata": {},
   "outputs": [],
   "source": [
    "# preliminary code\n",
    "\n",
    "# enable hot reload of imported code\n",
    "%load_ext autoreload\n",
    "%autoreload 2"
   ]
  },
  {
   "cell_type": "code",
   "execution_count": 2,
   "metadata": {},
   "outputs": [],
   "source": [
    "# enable src imports if needed (setting an env variable may be enough too)\n",
    "import sys\n",
    "sys.path.append(\"..\")"
   ]
  },
  {
   "cell_type": "code",
   "execution_count": 3,
   "metadata": {},
   "outputs": [],
   "source": [
    "from sklearn.metrics import ndcg_score, average_precision_score\n",
    "import torch\n",
    "from src.evaluation.evaluation_utils import evaluate"
   ]
  },
  {
   "cell_type": "code",
   "execution_count": 4,
   "metadata": {},
   "outputs": [],
   "source": [
    "import torchmetrics\n",
    "import numpy as np"
   ]
  },
  {
   "cell_type": "code",
   "execution_count": 5,
   "metadata": {},
   "outputs": [],
   "source": [
    "# generate test set\n",
    "\n",
    "n = 1000\n",
    "class_num = 8\n",
    "emb_size = 16\n",
    "\n",
    "no_class_v = torch.arange(n)\n",
    "class_v = (torch.rand(n)*class_num).floor().int()\n",
    "\n",
    "true_similarity = torch.eye(n)\n",
    "true_similarity_class = (class_v == class_v.unsqueeze(1)).int()\n",
    "\n",
    "\n",
    "scenes = torch.rand((n,emb_size))\n",
    "descs = torch.rand((n,emb_size))\n",
    "\n",
    "# # perfect match:\n",
    "# assert emb_size >= n\n",
    "# scenes = torch.zeros((n,emb_size))\n",
    "# for i in range(n):\n",
    "#     scenes[i,i] =1\n",
    "# descs = scenes\n",
    "\n",
    "similarity_matrix = torch.nn.functional.cosine_similarity(\n",
    "        scenes.unsqueeze(1), descs.unsqueeze(0), dim=-1\n",
    "    ) \n",
    "\n",
    "eval_res = evaluate(descs, scenes, class_v, class_v)"
   ]
  },
  {
   "cell_type": "code",
   "execution_count": 6,
   "metadata": {},
   "outputs": [],
   "source": [
    "# proxy to use the torchmetrics implementation of the precision and recall taking the average over the all examples\n",
    "def recall_precision_at_k(similarity_mat, true_similarity, k = None):\n",
    "    retrieval_results = []\n",
    "    precision_results = []\n",
    "    for i in range(len(similarity_mat)):\n",
    "        retrieval_results.append(torchmetrics.functional.retrieval.retrieval_recall(similarity_mat[i], true_similarity[i], top_k=k))\n",
    "        precision_results.append(torchmetrics.functional.retrieval.retrieval_precision(similarity_mat[i], true_similarity[i], top_k=k))\n",
    "    return 100*np.average(retrieval_results), 100*np.average(precision_results)"
   ]
  },
  {
   "cell_type": "code",
   "execution_count": 7,
   "metadata": {},
   "outputs": [
    {
     "name": "stdout",
     "output_type": "stream",
     "text": [
      "all test passed - the code author appears to be mentally sane :)\n"
     ]
    }
   ],
   "source": [
    "max_error = 0.01 # this is expressed in percentages\n",
    "\n",
    "## recall and precision\n",
    "value, _ = recall_precision_at_k(similarity_matrix, true_similarity, k=1)\n",
    "assert (value - eval_res['s2t_R@1']) <= max_error, f\"{value} vs {eval_res['s2t_R@1']}\"\n",
    "\n",
    "value, _ = recall_precision_at_k(similarity_matrix, true_similarity, k=5)\n",
    "assert (value - eval_res['s2t_R@5']) <= max_error, f\"{value} vs {eval_res['s2t_R@5']}\"\n",
    "\n",
    "value, _ = recall_precision_at_k(similarity_matrix, true_similarity, k=10)\n",
    "assert (value - eval_res['s2t_R@10']) <= max_error, f\"{value} vs {eval_res['s2t_R@10']}\"\n",
    "\n",
    "value, value_p = recall_precision_at_k(similarity_matrix, true_similarity_class, k=1)\n",
    "assert (value - eval_res['s2t_class_R@1']) <= max_error, f\"{value} vs {eval_res['s2t_class_R@1']}\"\n",
    "assert (value_p - eval_res['s2t_class_P@1']) <= max_error, f\"{value_p} vs {eval_res['s2t_class_P@1']}\"\n",
    "\n",
    "value, value_p = recall_precision_at_k(similarity_matrix, true_similarity_class, k=5)\n",
    "assert (value - eval_res['s2t_class_R@5']) <= max_error, f\"{value} vs {eval_res['s2t_class_R@5']}\"\n",
    "assert (value_p - eval_res['s2t_class_P@5']) <= max_error, f\"{value_p} vs {eval_res['s2t_class_P@5']}\"\n",
    "\n",
    "value, value_p = recall_precision_at_k(similarity_matrix, true_similarity_class, k=10)\n",
    "assert (value - eval_res['s2t_class_R@10']) <= max_error, f\"{value} vs {eval_res['s2t_class_R@10']}\"\n",
    "assert (value_p - eval_res['s2t_class_P@10']) <= max_error, f\"{value_p} vs {eval_res['s2t_class_P@10']}\"\n",
    "\n",
    "value, _ = recall_precision_at_k(similarity_matrix.T, true_similarity.T, k=1)\n",
    "assert (value - eval_res['t2s_R@1']) <= max_error, f\"{value} vs {eval_res['t2s_R@1']}\"\n",
    "\n",
    "value, _ = recall_precision_at_k(similarity_matrix.T, true_similarity.T, k=5)\n",
    "assert (value - eval_res['t2s_R@5']) <= max_error, f\"{value} vs {eval_res['t2s_R@5']}\"\n",
    "\n",
    "value, _ = recall_precision_at_k(similarity_matrix.T, true_similarity.T, k=10)\n",
    "assert (value - eval_res['t2s_R@10']) <= max_error, f\"{value} vs {eval_res['t2s_R@10']}\"\n",
    "\n",
    "value, value_p = recall_precision_at_k(similarity_matrix.T, true_similarity_class.T, k=1)\n",
    "assert (value - eval_res['t2s_class_R@1']) <= max_error, f\"{value} vs {eval_res['t2s_class_R@1']}\"\n",
    "assert (value_p - eval_res['t2s_class_P@1']) <= max_error, f\"{value_p} vs {eval_res['t2s_class_P@1']}\"\n",
    "\n",
    "value, value_p = recall_precision_at_k(similarity_matrix.T, true_similarity_class.T, k=5)\n",
    "assert (value - eval_res['t2s_class_R@5']) <= max_error, f\"{value} vs {eval_res['t2s_class_R@5']}\"\n",
    "assert (value_p - eval_res['t2s_class_P@5']) <= max_error, f\"{value_p} vs {eval_res['t2s_class_P@5']}\"\n",
    "\n",
    "value, value_p = recall_precision_at_k(similarity_matrix.T, true_similarity_class.T, k=10)\n",
    "assert (value - eval_res['t2s_class_R@10']) <= max_error, f\"{value} vs {eval_res['t2s_class_R@10']}\"\n",
    "assert (value_p - eval_res['t2s_class_P@10']) <= max_error, f\"{value_p} vs {eval_res['t2s_class_P@10']}\"\n",
    "\n",
    "\n",
    "## NDCG\n",
    "value = 100*ndcg_score(true_similarity, similarity_matrix)\n",
    "assert (value - eval_res['s2t_avg_ndcg']) <= max_error, f\"{value} vs {eval_res['s2t_avg_ndcg']}\"\n",
    "\n",
    "value = 100*ndcg_score(true_similarity_class, similarity_matrix)\n",
    "assert (value - eval_res['s2t_avg_ndcg_by_class']) <= max_error, f\"{value} vs {eval_res['s2t_avg_ndcg_by_class']}\"\n",
    "\n",
    "value = 100*ndcg_score(true_similarity.T, similarity_matrix.T)\n",
    "assert (value - eval_res['t2s_avg_ndcg']) <= max_error, f\"{value} vs {eval_res['t2s_avg_ndcg']}\"\n",
    "\n",
    "value = 100*ndcg_score(true_similarity_class.T, similarity_matrix.T)\n",
    "assert (value - eval_res['t2s_avg_ndcg_by_class']) <= max_error, f\"{value} vs {eval_res['t2s_avg_ndcg_by_class']}\"\n",
    "\n",
    "## mAP\n",
    "# here average samples is needed to get the correct association, default with 'macro' would transpose rows and columns\n",
    "value = 100*average_precision_score(true_similarity, similarity_matrix, average='samples')\n",
    "assert (value - eval_res['s2t_mAP']) <= max_error, f\"{value} vs {eval_res['s2t_mAP']}\"\n",
    "\n",
    "value = 100*average_precision_score(true_similarity_class, similarity_matrix, average='samples')\n",
    "assert (value - eval_res['s2t_mAP_by_class']) <= max_error, f\"{value} vs {eval_res['s2t_mAP_by_class']}\"\n",
    "\n",
    "value = 100*average_precision_score(true_similarity.T, similarity_matrix.T, average='samples')\n",
    "assert (value - eval_res['t2s_mAP']) <= max_error, f\"{value} vs {eval_res['t2s_mAP']}\"\n",
    "\n",
    "value = 100*average_precision_score(true_similarity_class.T, similarity_matrix.T, average='samples')\n",
    "assert (value - eval_res['t2s_mAP_by_class']) <= max_error, f\"{value} vs {eval_res['t2s_mAP_by_class']}\"\n",
    "\n",
    "print(\"all test passed - the code author appears to be mentally sane :)\")\n"
   ]
  }
 ],
 "metadata": {
  "kernelspec": {
   "display_name": "base",
   "language": "python",
   "name": "python3"
  },
  "language_info": {
   "codemirror_mode": {
    "name": "ipython",
    "version": 3
   },
   "file_extension": ".py",
   "mimetype": "text/x-python",
   "name": "python",
   "nbconvert_exporter": "python",
   "pygments_lexer": "ipython3",
   "version": "3.11.5"
  }
 },
 "nbformat": 4,
 "nbformat_minor": 2
}
