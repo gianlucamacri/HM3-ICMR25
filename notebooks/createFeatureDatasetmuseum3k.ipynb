{
 "cells": [
  {
   "cell_type": "code",
   "execution_count": 10,
   "metadata": {},
   "outputs": [
    {
     "name": "stdout",
     "output_type": "stream",
     "text": [
      "The autoreload extension is already loaded. To reload it, use:\n",
      "  %reload_ext autoreload\n"
     ]
    }
   ],
   "source": [
    "# preliminary code\n",
    "\n",
    "# enable hot reload of imported code\n",
    "%load_ext autoreload\n",
    "%autoreload 2"
   ]
  },
  {
   "cell_type": "code",
   "execution_count": 11,
   "metadata": {},
   "outputs": [],
   "source": [
    "from datasets.museums3k.utils import Museums3kDataset"
   ]
  },
  {
   "cell_type": "code",
   "execution_count": 12,
   "metadata": {},
   "outputs": [],
   "source": [
    "# enable src imports if needed (setting an env variable may be enough too)\n",
    "import sys\n",
    "sys.path.append(\"..\")"
   ]
  },
  {
   "cell_type": "code",
   "execution_count": 13,
   "metadata": {},
   "outputs": [],
   "source": [
    "import pickle"
   ]
  },
  {
   "cell_type": "code",
   "execution_count": 14,
   "metadata": {},
   "outputs": [],
   "source": [
    "\n",
    "from src.data.feature_extractor import *\n",
    "from src.data.feature_utils import DigitalExhibitionFeatureSet\n",
    "from src.data.datasets.SemArt.utils import SemArtDataset"
   ]
  },
  {
   "cell_type": "code",
   "execution_count": 15,
   "metadata": {},
   "outputs": [],
   "source": [
    "feature_output_dir_name = 'museums3k'\n",
    "text_split_strategy ='sentence_by_sentence'\n",
    "dataset = 'museums3k'\n",
    "feature_set_name = \"base_sentence_open_clip\""
   ]
  },
  {
   "cell_type": "code",
   "execution_count": 16,
   "metadata": {},
   "outputs": [],
   "source": [
    "textExtractor = TextExtractor.OPEN_CLIP\n",
    "povExtractor = ImageExtractor.OPEN_CLIP\n",
    "imageExtractor = ImageExtractor.NONE\n",
    "videoExtractor = VideoExtractor.NONE\n",
    "\n",
    "feature_set = DigitalExhibitionFeatureSet(feature_output_dir_name, feature_set_name)\n",
    "feature_set.set_dataset_name(dataset)\n",
    "\n",
    "split_strategy = TextSplitStrategy.BY_SENTENCE\n",
    "\n",
    "museumDataset = Museums3kDataset()\n",
    "museum_id_list = museumDataset.getMuseumList()"
   ]
  },
  {
   "cell_type": "code",
   "execution_count": 17,
   "metadata": {},
   "outputs": [],
   "source": [
    "\n",
    "# description_feature_dict should be a dictionaty id - tensors (#sentences, 512)\n",
    "# scene_feature_dict should be a dict id - list of rooms, each one is a tensor (#screenshots, 512)\n",
    "# image_artworks_feature_dict should be a dict id - tensor (1,512) - why? 1\n",
    "# video_artworks_feature_dict should be a dict with a features field with aa dict id - tensor (512)\n",
    "\n",
    "description_feature_dict = {}\n",
    "scene_feature_dict = {}\n",
    "image_artworks_feature_dict = {}\n",
    "video_artworks_feature_dict = {'features':{}}\n",
    "\n",
    "for id in museum_id_list:\n",
    "    desc_tensor, scene_img_tensor, index = museumDataset[museumDataset.id_to_idx(id)]\n",
    "    description_feature_dict[id] = desc_tensor\n",
    "    scene_feature_dict[id] = list(scene_img_tensor.split(museumDataset.images_per_room))\n",
    "    s = scene_feature_dict[id][0].shape\n",
    "    assert all([el.shape == s for el in scene_feature_dict[id]])\n",
    "\n",
    "base_path_features = os.path.join('..', 'src', 'data', 'features', feature_output_dir_name)\n",
    "\n",
    "\n",
    "description_feature_dict_fn = \"museumDescSentenceLevelSplit_OPEN_CLIP.pickle\"\n",
    "scene_feature_dict_fn = \"museumSceneFeatures_OPEN_CLIP.pickle\"\n",
    "image_artworks_feature_dict_fn = \"imageArt.pickle\"\n",
    "video_artworks_feature_dict_fn = \"videoArt.pickle\"\n",
    "\n",
    "with open(os.path.join(base_path_features, description_feature_dict_fn), 'wb') as f:\n",
    "    pickle.dump(description_feature_dict, f)\n",
    "with open(os.path.join(base_path_features, scene_feature_dict_fn), 'wb') as f:\n",
    "    pickle.dump(scene_feature_dict, f)\n",
    "with open(os.path.join(base_path_features, image_artworks_feature_dict_fn), 'wb') as f:\n",
    "    pickle.dump(image_artworks_feature_dict, f)\n",
    "with open(os.path.join(base_path_features, video_artworks_feature_dict_fn), 'wb') as f:\n",
    "    pickle.dump(video_artworks_feature_dict, f)\n"
   ]
  },
  {
   "cell_type": "code",
   "execution_count": 18,
   "metadata": {},
   "outputs": [],
   "source": [
    "feature_set.add_and_store_descriptions(description_feature_dict_fn, textExtractor, split_strategy)\n",
    "feature_set.add_and_store_povs(scene_feature_dict_fn, povExtractor)\n",
    "feature_set.add_and_store_image_art(image_artworks_feature_dict_fn, imageExtractor)\n",
    "feature_set.add_and_store_video_art(video_artworks_feature_dict_fn, videoExtractor)"
   ]
  }
 ],
 "metadata": {
  "kernelspec": {
   "display_name": "base",
   "language": "python",
   "name": "python3"
  },
  "language_info": {
   "codemirror_mode": {
    "name": "ipython",
    "version": 3
   },
   "file_extension": ".py",
   "mimetype": "text/x-python",
   "name": "python",
   "nbconvert_exporter": "python",
   "pygments_lexer": "ipython3",
   "version": "3.11.5"
  }
 },
 "nbformat": 4,
 "nbformat_minor": 2
}
